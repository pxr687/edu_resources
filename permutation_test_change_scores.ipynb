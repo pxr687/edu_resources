{
 "cells": [
  {
   "cell_type": "markdown",
   "id": "joined-oxford",
   "metadata": {},
   "source": [
    "# Permuation tests with change scores"
   ]
  },
  {
   "cell_type": "code",
   "execution_count": 1,
   "id": "laughing-strain",
   "metadata": {},
   "outputs": [],
   "source": [
    "import pandas as pd\n",
    "import matplotlib.pyplot as plt\n",
    "import numpy as np"
   ]
  },
  {
   "cell_type": "markdown",
   "id": "irish-institute",
   "metadata": {},
   "source": [
    "This notebook will simulate a clinical trial where a placebo group and an active drug group are tested pre and post treatment. The tests will test the null hypothesis that there is no difference in the pre/post treatment change scores for each group. E.g. that the drug is no more effective than placebo.\n",
    "\n",
    "The output of the cell below shows the simulated symptom severity scores before treatment, for each participant. E.g. before the placebo group have received the placebo treatment, and before the drug group have received the active drug treatment:"
   ]
  },
  {
   "cell_type": "code",
   "execution_count": 2,
   "id": "direct-reform",
   "metadata": {},
   "outputs": [
    {
     "name": "stdout",
     "output_type": "stream",
     "text": [
      "\n",
      "Placebo group symptom severity scores BEFORE treatment:\n"
     ]
    },
    {
     "data": {
      "text/plain": [
       "array([110, 124, 125,  91, 114,  91, 119,  79,  90, 113,  94,  99,  93,\n",
       "        97,  86, 116, 113, 112,  90, 102, 108,  82,  92,  88,  91,  99,\n",
       "       100, 119, 111, 109, 113, 110, 111, 102,  91,  84,  95,  86,  95,\n",
       "        88,  82, 108,  89,  88, 105,  92,  99,  86, 101,  93,  85,  94,\n",
       "        97,  93,  90,  83,  89, 101, 111,  98, 102, 103,  88, 133,  91,\n",
       "       102,  91, 111, 111, 120,  90,  99,  99, 115,  94,  89, 119,  88,\n",
       "        90, 109])"
      ]
     },
     "metadata": {},
     "output_type": "display_data"
    },
    {
     "name": "stdout",
     "output_type": "stream",
     "text": [
      "\n",
      "Drug group symptom severity scores BEFORE treatment:\n"
     ]
    },
    {
     "data": {
      "text/plain": [
       "array([ 85, 102,  78, 117,  77, 127, 128,  92,  86, 114,  93, 121,  92,\n",
       "       113, 125,  72,  94, 128,  98,  90, 100, 114, 139,  81,  95, 109,\n",
       "       108,  79,  91, 112, 122,  80,  97, 100,  89, 131, 118, 110,  91,\n",
       "       108, 109, 116, 106,  93,  90,  98, 106, 106,  92, 109, 108, 107,\n",
       "        84,  85,  82, 107, 100,  90, 125,  72,  90,  83, 100, 125, 105,\n",
       "        74,  96, 100, 100, 132, 122, 113, 115, 123, 121, 111,  92, 118,\n",
       "        92, 124])"
      ]
     },
     "metadata": {},
     "output_type": "display_data"
    }
   ],
   "source": [
    "# setting a sample size for the simulated groups\n",
    "samp_size = 80\n",
    "\n",
    "# creating simulated pre-treatment scores for the placebo group\n",
    "placebo_before = np.random.normal(100, 15, samp_size).astype('int')\n",
    "\n",
    "print('\\nPlacebo group symptom severity scores BEFORE treatment:')\n",
    "display(placebo_before)\n",
    "\n",
    "# creating simulated pre-treatment scores for the drug group\n",
    "drug_before = np.random.normal(100, 15, samp_size).astype('int')\n",
    "\n",
    "print('\\nDrug group symptom severity scores BEFORE treatment:')\n",
    "display(drug_before)"
   ]
  },
  {
   "cell_type": "markdown",
   "id": "potential-tissue",
   "metadata": {},
   "source": [
    "The output of the cell below shows the symptom severity scores after treatment:"
   ]
  },
  {
   "cell_type": "code",
   "execution_count": 3,
   "id": "accepting-latex",
   "metadata": {},
   "outputs": [
    {
     "name": "stdout",
     "output_type": "stream",
     "text": [
      "Placebo group scores AFTER treatment:\n"
     ]
    },
    {
     "data": {
      "text/plain": [
       "array([ 87,  83,  78,  90,  97,  73,  94,  98,  86,  98, 100,  97, 106,\n",
       "        85, 109, 118, 121,  89,  77,  96,  84,  91,  93,  69, 115,  82,\n",
       "        82,  94, 105,  90, 105,  81, 102,  88,  88,  76, 126,  66, 115,\n",
       "        94,  88, 106,  93,  98,  90,  99, 112,  93,  81, 104,  88, 111,\n",
       "        81,  87,  98,  72,  91,  95,  82,  89,  99, 115, 110,  59,  73,\n",
       "       108, 105,  57,  99,  84, 109, 104,  77,  84,  91, 115,  88, 115,\n",
       "       104,  99])"
      ]
     },
     "metadata": {},
     "output_type": "display_data"
    },
    {
     "name": "stdout",
     "output_type": "stream",
     "text": [
      "Drug group scores AFTER treatment:\n"
     ]
    },
    {
     "data": {
      "text/plain": [
       "array([ 73, 116,  75,  61, 101,  96,  90,  94, 105,  81,  86,  63,  83,\n",
       "        84,  84,  82,  82,  84,  56,  76,  44,  68,  64, 108,  99,  69,\n",
       "        92,  85,  77,  77, 106,  70,  69,  93, 103,  69,  69,  92,  98,\n",
       "        97,  76, 101,  58,  80,  87,  66,  72,  95,  93, 118,  61,  86,\n",
       "        94,  92,  77, 106,  54, 111,  67,  67,  81,  79, 109,  62,  93,\n",
       "        84,  91,  92,  80, 107,  90,  80,  81,  96,  91,  89, 112,  91,\n",
       "       109,  92])"
      ]
     },
     "metadata": {},
     "output_type": "display_data"
    }
   ],
   "source": [
    "# creating simulated post-treatment scores for the placebo group\n",
    "placebo_after = np.random.normal(95, 15, samp_size).astype('int')\n",
    "\n",
    "print('Placebo group scores AFTER treatment:')\n",
    "display(placebo_after)\n",
    "\n",
    "\n",
    "# creating simulated post-treatment scores for the drug group\n",
    "drug_after = np.random.normal(85, 15, samp_size).astype('int')\n",
    "\n",
    "print('Drug group scores AFTER treatment:')\n",
    "display(drug_after)"
   ]
  },
  {
   "cell_type": "markdown",
   "id": "south-colonial",
   "metadata": {},
   "source": [
    "The cells below show some graphical inspection of the data, using seaborn:"
   ]
  },
  {
   "cell_type": "code",
   "execution_count": 4,
   "id": "cubic-italian",
   "metadata": {},
   "outputs": [
    {
     "data": {
      "image/png": "[encoded data removed]",
      "text/plain": [
       "<Figure size 432x288 with 1 Axes>"
      ]
     },
     "metadata": {
      "needs_background": "light"
     },
     "output_type": "display_data"
    }
   ],
   "source": [
    "import seaborn as sns\n",
    "\n",
    "# plotting the pre/post treatment scores for each group\n",
    "sns.boxplot(data = [placebo_before, placebo_after, drug_before, drug_after])\n",
    "# labelling the axes\n",
    "plt.xticks(np.arange(4), ['placebo_before', 'placebo_after', 'drug_before', 'drug_after'])\n",
    "plt.ylabel('symptom severity');"
   ]
  },
  {
   "cell_type": "markdown",
   "id": "processed-plain",
   "metadata": {},
   "source": [
    "In this instance, from graphical inspection it does look like the post-treatment syptom severity is lower for the drug group than for the placebo group. It's especially informative to look at the line in the center of each boxplot, which shows the median."
   ]
  },
  {
   "cell_type": "markdown",
   "id": "spatial-veteran",
   "metadata": {},
   "source": [
    "# Change scores\n",
    "\n",
    "The output of the cell below shows the change scores for each group. Generally this is calculated by subtracting the pre-treatment scores from the post-treatment scores."
   ]
  },
  {
   "cell_type": "code",
   "execution_count": 5,
   "id": "empty-friend",
   "metadata": {},
   "outputs": [
    {
     "name": "stdout",
     "output_type": "stream",
     "text": [
      "\n",
      "Placebo group change scores:\n"
     ]
    },
    {
     "data": {
      "text/plain": [
       "array([-23, -41, -47,  -1, -17, -18, -25,  19,  -4, -15,   6,  -2,  13,\n",
       "       -12,  23,   2,   8, -23, -13,  -6, -24,   9,   1, -19,  24, -17,\n",
       "       -18, -25,  -6, -19,  -8, -29,  -9, -14,  -3,  -8,  31, -20,  20,\n",
       "         6,   6,  -2,   4,  10, -15,   7,  13,   7, -20,  11,   3,  17,\n",
       "       -16,  -6,   8, -11,   2,  -6, -29,  -9,  -3,  12,  22, -74, -18,\n",
       "         6,  14, -54, -12, -36,  19,   5, -22, -31,  -3,  26, -31,  27,\n",
       "        14, -10])"
      ]
     },
     "metadata": {},
     "output_type": "display_data"
    },
    {
     "name": "stdout",
     "output_type": "stream",
     "text": [
      "\n",
      "Drug group change scores:\n"
     ]
    },
    {
     "data": {
      "text/plain": [
       "array([-12,  14,  -3, -56,  24, -31, -38,   2,  19, -33,  -7, -58,  -9,\n",
       "       -29, -41,  10, -12, -44, -42, -14, -56, -46, -75,  27,   4, -40,\n",
       "       -16,   6, -14, -35, -16, -10, -28,  -7,  14, -62, -49, -18,   7,\n",
       "       -11, -33, -15, -48, -13,  -3, -32, -34, -11,   1,   9, -47, -21,\n",
       "        10,   7,  -5,  -1, -46,  21, -58,  -5,  -9,  -4,   9, -63, -12,\n",
       "        10,  -5,  -8, -20, -25, -32, -33, -34, -27, -30, -22,  20, -27,\n",
       "        17, -32])"
      ]
     },
     "metadata": {},
     "output_type": "display_data"
    }
   ],
   "source": [
    "# calculating the change scores for the placebo group\n",
    "placebo_change = placebo_after - placebo_before\n",
    "print('\\nPlacebo group change scores:')\n",
    "display(placebo_change)\n",
    "\n",
    "# calculating the change scores for the drug group\n",
    "drug_change = drug_after - drug_before\n",
    "print('\\nDrug group change scores:')\n",
    "display(drug_change)"
   ]
  },
  {
   "cell_type": "markdown",
   "id": "precious-graduation",
   "metadata": {},
   "source": [
    "We can graphically inspect the change scores for each group, in the same way as for the raw scores:"
   ]
  },
  {
   "cell_type": "code",
   "execution_count": 6,
   "id": "cross-money",
   "metadata": {},
   "outputs": [
    {
     "data": {
      "image/png": "[encoded data removed]",
      "text/plain": [
       "<Figure size 432x288 with 1 Axes>"
      ]
     },
     "metadata": {
      "needs_background": "light"
     },
     "output_type": "display_data"
    }
   ],
   "source": [
    "sns.boxplot(data = [placebo_change, drug_change])\n",
    "plt.xticks(np.arange(2), ['placebo group', 'drug group'])\n",
    "plt.ylabel('symptom severity pre/post treatment change');"
   ]
  },
  {
   "cell_type": "markdown",
   "id": "attached-break",
   "metadata": {},
   "source": [
    "It does look like the drug group generally have more negative change scores. This indicates a greater reduction in symptom severity in the drug group, relative to the placebo group.\n",
    "\n",
    "We can check this further with some descriptive statistics:"
   ]
  },
  {
   "cell_type": "code",
   "execution_count": 7,
   "id": "blessed-ownership",
   "metadata": {},
   "outputs": [
    {
     "name": "stdout",
     "output_type": "stream",
     "text": [
      "The mean change for the placebo group =  -5.9875\n",
      "The mean change for the drug group =  -17.95\n"
     ]
    }
   ],
   "source": [
    "print('The mean change for the placebo group = ', np.mean(placebo_change))\n",
    "\n",
    "print('The mean change for the drug group = ', np.mean(drug_change))"
   ]
  },
  {
   "cell_type": "markdown",
   "id": "alpha-lambda",
   "metadata": {},
   "source": [
    "# Permutation testing the difference in mean change scores between the two groups\n",
    "\n",
    "We can permutation test the difference in the mean change scores between the groups in a very similar way to the permutation test shown in: https://matthew-brett.github.io/cfd2020/permutation/permutation_and_t_test.html\n",
    "\n",
    "This method shuffles the change scores themselves. We are also interested in the *direction* of the change, so there's another method, which uses the +/- signs of the change scores, which I'll show after this.\n",
    "\n",
    "First, let's calculate the actual difference between the mean change score of each group:"
   ]
  },
  {
   "cell_type": "code",
   "execution_count": 8,
   "id": "lucky-moses",
   "metadata": {},
   "outputs": [
    {
     "name": "stdout",
     "output_type": "stream",
     "text": [
      "11.962499999999999\n"
     ]
    }
   ],
   "source": [
    "actual_diff = np.mean(placebo_change) - np.mean(drug_change)\n",
    "\n",
    "print(actual_diff)"
   ]
  },
  {
   "cell_type": "markdown",
   "id": "stopped-geography",
   "metadata": {},
   "source": [
    "The permutation test is shown below:"
   ]
  },
  {
   "cell_type": "code",
   "execution_count": 9,
   "id": "tropical-pointer",
   "metadata": {},
   "outputs": [],
   "source": [
    "# adpated from https://matthew-brett.github.io/cfd2020/permutation/permutation_and_t_test.html\n",
    "\n",
    "# count the number of participants in the placebo group\n",
    "n_placebo = len(placebo_change)\n",
    "\n",
    "# pool the change scores together\n",
    "pooled = np.append(placebo_change, drug_change)\n",
    "\n",
    "# set the number of iterations for the permutation test\n",
    "n_iters = 10000\n",
    "\n",
    "# create an array to store the fake differences in the mean change scores\n",
    "fake_differences = np.zeros(n_iters)\n",
    "\n",
    "# for 10,000 iterations, shuffle the change scores around, as if there is no difference between the groups (e.g. no difference\n",
    "# between the direction or magnitude of the changes in each group)\n",
    "for i in np.arange(n_iters):\n",
    "    shuffled = np.random.permutation(pooled)\n",
    "    \n",
    "    # calculate the fake difference in the mean change scores between each group\n",
    "    fake_differences[i] = np.mean(shuffled[:n_placebo]) - np.mean(shuffled[n_placebo:])\n",
    "    "
   ]
  },
  {
   "cell_type": "markdown",
   "id": "legitimate-german",
   "metadata": {},
   "source": [
    "In the familar way, we can plot the simulate sampling distribution of the fake differences in mean change scores:"
   ]
  },
  {
   "cell_type": "code",
   "execution_count": 10,
   "id": "leading-client",
   "metadata": {},
   "outputs": [
    {
     "data": {
      "image/png": "[encoded data removed]",
      "text/plain": [
       "<Figure size 432x288 with 1 Axes>"
      ]
     },
     "metadata": {
      "needs_background": "light"
     },
     "output_type": "display_data"
    }
   ],
   "source": [
    "plt.hist(fake_differences)\n",
    "plt.title('Sampling distribution of difference of fake mean change scores');"
   ]
  },
  {
   "cell_type": "markdown",
   "id": "roman-bulletin",
   "metadata": {},
   "source": [
    "Let's plot the actual difference in mean change scores, to see how likely/unlikely a difference of that size was, in the simulation."
   ]
  },
  {
   "cell_type": "code",
   "execution_count": 11,
   "id": "grave-clarity",
   "metadata": {},
   "outputs": [
    {
     "data": {
      "image/png": "[encoded data removed]",
      "text/plain": [
       "<Figure size 432x288 with 1 Axes>"
      ]
     },
     "metadata": {
      "needs_background": "light"
     },
     "output_type": "display_data"
    }
   ],
   "source": [
    "plt.hist(fake_differences)\n",
    "plt.title('Sampling distribution of difference of fake mean change score')\n",
    "plt.plot(actual_diff, 1, 'o', markersize = 10, label = 'actual difference in mean change score')\n",
    "plt.legend();"
   ]
  },
  {
   "cell_type": "markdown",
   "id": "destroyed-lover",
   "metadata": {},
   "source": [
    "We can also calculate a p-value, but calculating the proportion of fake mean differences which were as large or larger than the absolute value of the actual difference:"
   ]
  },
  {
   "cell_type": "code",
   "execution_count": 12,
   "id": "invalid-jurisdiction",
   "metadata": {},
   "outputs": [
    {
     "name": "stdout",
     "output_type": "stream",
     "text": [
      "0.0\n"
     ]
    }
   ],
   "source": [
    "p_value = np.count_nonzero(fake_differences >= np.abs(actual_diff))/len(fake_differences)\n",
    "\n",
    "print(p_value)"
   ]
  },
  {
   "cell_type": "markdown",
   "id": "aerial-channel",
   "metadata": {},
   "source": [
    "# Permutation testing the difference in +/- proportions of the change scores, between the two groups\n",
    "\n",
    "Another way of testing whether the drug is effective, is to look only at the direction of the changes in each group. In this instance (and it can get a bit confusing) a negative change is what we want, as we want symptom severity to decrease.\n",
    "\n",
    "If the drug is not effective, we would expect roughly equal amounts of positive and negative change scores in the drug group.\n",
    "\n",
    "If the drug is no more effective than the placebo, we would expect the distribution of postivie and negative change scores to be the same between the placebo and drug groups.\n",
    "\n",
    "The placebo might be effective, because of the placebo effect. So we might expect more negative changes than positive changes in both groups. \n",
    "\n",
    "So both groups may have more negative changes than positive changes. But if the drug is more effective than the placebo, we would expect the proportion of negative changes to be higher in the drug group than the placebo group.\n",
    "\n",
    "First, let's write a function to convert the actual change scores to a string, either `+` or `-`, depending on the sign of the change score:"
   ]
  },
  {
   "cell_type": "code",
   "execution_count": 13,
   "id": "capable-pattern",
   "metadata": {},
   "outputs": [],
   "source": [
    "def change_score_to_sign(change_scores):\n",
    "    \n",
    "    # copy the input array, to avoid changing the original change scores\n",
    "    change_scores_no_zeros = np.copy(change_scores)\n",
    "    \n",
    "    # there may be change scores of 0, which are neither positive nor negative\n",
    "    # find any 0s in the input array, and with a 50/50 chance, replace them with either -1 or 1\n",
    "    change_scores_no_zeros[np.where(change_scores_no_zeros == 0)] = np.random.choice([-1, 1])\n",
    "    \n",
    "    # take the input array, replace any positive values with `+` and any negative values with `-`\n",
    "    output = np.where(change_scores_no_zeros > 0, '+', '-')\n",
    "    \n",
    "    return output"
   ]
  },
  {
   "cell_type": "code",
   "execution_count": 14,
   "id": "infrared-pierre",
   "metadata": {},
   "outputs": [
    {
     "data": {
      "text/plain": [
       "array(['-', '-', '-', '-', '-', '-', '-', '+', '-', '-', '+', '-', '+',\n",
       "       '-', '+', '+', '+', '-', '-', '-', '-', '+', '+', '-', '+', '-',\n",
       "       '-', '-', '-', '-', '-', '-', '-', '-', '-', '-', '+', '-', '+',\n",
       "       '+', '+', '-', '+', '+', '-', '+', '+', '+', '-', '+', '+', '+',\n",
       "       '-', '-', '+', '-', '+', '-', '-', '-', '-', '+', '+', '-', '-',\n",
       "       '+', '+', '-', '-', '-', '+', '+', '-', '-', '-', '+', '-', '+',\n",
       "       '+', '-'], dtype='<U1')"
      ]
     },
     "execution_count": 14,
     "metadata": {},
     "output_type": "execute_result"
    }
   ],
   "source": [
    "# testing the function on the placebo change scores\n",
    "change_score_to_sign(placebo_change)"
   ]
  },
  {
   "cell_type": "code",
   "execution_count": 15,
   "id": "eleven-article",
   "metadata": {},
   "outputs": [],
   "source": [
    "# running the function on the change scores of both groups, and storing the results as variables\n",
    "placebo_change_signs = change_score_to_sign(placebo_change)\n",
    "\n",
    "drug_change_signs = change_score_to_sign(drug_change)"
   ]
  },
  {
   "cell_type": "code",
   "execution_count": 16,
   "id": "human-commitment",
   "metadata": {},
   "outputs": [
    {
     "name": "stdout",
     "output_type": "stream",
     "text": [
      "Signs of the change scores for the placebo group:\n"
     ]
    },
    {
     "data": {
      "text/plain": [
       "array(['-', '-', '-', '-', '-', '-', '-', '+', '-', '-', '+', '-', '+',\n",
       "       '-', '+', '+', '+', '-', '-', '-', '-', '+', '+', '-', '+', '-',\n",
       "       '-', '-', '-', '-', '-', '-', '-', '-', '-', '-', '+', '-', '+',\n",
       "       '+', '+', '-', '+', '+', '-', '+', '+', '+', '-', '+', '+', '+',\n",
       "       '-', '-', '+', '-', '+', '-', '-', '-', '-', '+', '+', '-', '-',\n",
       "       '+', '+', '-', '-', '-', '+', '+', '-', '-', '-', '+', '-', '+',\n",
       "       '+', '-'], dtype='<U1')"
      ]
     },
     "metadata": {},
     "output_type": "display_data"
    },
    {
     "name": "stdout",
     "output_type": "stream",
     "text": [
      "Signs of the change scores for the drug group:\n"
     ]
    },
    {
     "data": {
      "text/plain": [
       "array(['-', '+', '-', '-', '+', '-', '-', '+', '+', '-', '-', '-', '-',\n",
       "       '-', '-', '+', '-', '-', '-', '-', '-', '-', '-', '+', '+', '-',\n",
       "       '-', '+', '-', '-', '-', '-', '-', '-', '+', '-', '-', '-', '+',\n",
       "       '-', '-', '-', '-', '-', '-', '-', '-', '-', '+', '+', '-', '-',\n",
       "       '+', '+', '-', '-', '-', '+', '-', '-', '-', '-', '+', '-', '-',\n",
       "       '+', '-', '-', '-', '-', '-', '-', '-', '-', '-', '-', '+', '-',\n",
       "       '+', '-'], dtype='<U1')"
      ]
     },
     "metadata": {},
     "output_type": "display_data"
    }
   ],
   "source": [
    "print('Signs of the change scores for the placebo group:')\n",
    "display(placebo_change_signs)\n",
    "\n",
    "print('Signs of the change scores for the drug group:')\n",
    "display(drug_change_signs)"
   ]
  },
  {
   "cell_type": "markdown",
   "id": "fatal-likelihood",
   "metadata": {},
   "source": [
    "What we are interested in is whether the proportion of negative change scores differs between the placebo and drug group.\n",
    "\n",
    "The proportions of negative change scores are calculated and plotted in the cell below:"
   ]
  },
  {
   "cell_type": "code",
   "execution_count": 17,
   "id": "automatic-maria",
   "metadata": {},
   "outputs": [
    {
     "data": {
      "image/png": "[encoded data removed]",
      "text/plain": [
       "<Figure size 432x288 with 1 Axes>"
      ]
     },
     "metadata": {
      "needs_background": "light"
     },
     "output_type": "display_data"
    }
   ],
   "source": [
    "prop_neg_placebo = np.count_nonzero(placebo_change_signs == '-')/len(placebo_change_signs)\n",
    "\n",
    "prop_neg_drug = np.count_nonzero(drug_change_signs == '-')/len(drug_change_signs)\n",
    "\n",
    "\n",
    "plt.bar(['placebo group', 'drug group'], [prop_neg_placebo, prop_neg_drug], color = ['blue', 'red'])\n",
    "plt.ylabel('Proportion of negative change scores');"
   ]
  },
  {
   "cell_type": "markdown",
   "id": "settled-anime",
   "metadata": {},
   "source": [
    "It does appear that a greater proportion of the drug group had negative change scores, indicating a greater proportion of participants had less severe symptoms post-treatment.\n",
    "\n",
    "We can calculate the difference in these proportions:"
   ]
  },
  {
   "cell_type": "code",
   "execution_count": 18,
   "id": "negative-fence",
   "metadata": {},
   "outputs": [
    {
     "name": "stdout",
     "output_type": "stream",
     "text": [
      "Difference in the proportion of negative change scores (placebo group - drug group) = -0.16249999999999998\n"
     ]
    }
   ],
   "source": [
    "actual_proportion_diff = prop_neg_placebo - prop_neg_drug\n",
    "\n",
    "print('Difference in the proportion of negative change scores (placebo group - drug group) =',  actual_proportion_diff)"
   ]
  },
  {
   "cell_type": "markdown",
   "id": "sacred-enzyme",
   "metadata": {},
   "source": [
    "We can permutation test this by shuffling the `+` and `-` labels around, under the null hypothesis that there is no difference in the proportion of negative change scores in each group:"
   ]
  },
  {
   "cell_type": "code",
   "execution_count": 19,
   "id": "extended-tenant",
   "metadata": {},
   "outputs": [],
   "source": [
    "# count the number of participants in the placebo group\n",
    "n_placebo = len(placebo_change)\n",
    "\n",
    "# pool the change score signs from each group\n",
    "pooled = np.append(placebo_change_signs, drug_change_signs)\n",
    "\n",
    "# set the number of iterations\n",
    "n_iters = 10000\n",
    "\n",
    "# create an array to store the fake proportion differences\n",
    "fake_differences = np.zeros(n_iters)\n",
    "\n",
    "# for 10,000 iterations...\n",
    "for i in np.arange(n_iters):\n",
    "    \n",
    "    # shuffle the +/- change labels around\n",
    "    shuffled = np.random.permutation(pooled)\n",
    "    \n",
    "    # create a fake placebo group from the shuffled labels\n",
    "    fake_placebo_change_signs = shuffled[:n_placebo]\n",
    "    \n",
    "    # create a fake drug group from the shuffled labels\n",
    "    fake_drug_change_signs = shuffled[n_placebo:]\n",
    "    \n",
    "    # caclulate the fake proportion of negative changes in the placebo group\n",
    "    fake_prop_neg_placebo = np.count_nonzero(fake_placebo_change_signs == '-')/len(fake_placebo_change_signs)\n",
    "    \n",
    "    # caclulate the fake proportion of negative changes in the drug group\n",
    "    fake_prop_neg_drug = np.count_nonzero(fake_drug_change_signs == '-')/len(fake_drug_change_signs)\n",
    "    \n",
    "    # store the fake proportion difference in the fake_differences array\n",
    "    fake_differences[i] = fake_prop_neg_placebo - fake_prop_neg_drug\n"
   ]
  },
  {
   "cell_type": "markdown",
   "id": "muslim-airplane",
   "metadata": {},
   "source": [
    "Again, we can plot the simulated sampling distribution, under the null hypothesis, of the difference in the proportion of negative change scores between the groups:"
   ]
  },
  {
   "cell_type": "code",
   "execution_count": 20,
   "id": "irish-sample",
   "metadata": {},
   "outputs": [
    {
     "data": {
      "image/png": "[encoded data removed]",
      "text/plain": [
       "<Figure size 432x288 with 1 Axes>"
      ]
     },
     "metadata": {
      "needs_background": "light"
     },
     "output_type": "display_data"
    }
   ],
   "source": [
    "plt.hist(fake_differences)\n",
    "plt.title('Sampling distribution of difference of fake differences in the proportion of negative change scores')\n",
    "plt.plot(actual_proportion_diff, 1, 'o',  markersize = 10, label = 'actual difference in proportion of negative change scores')\n",
    "plt.legend();"
   ]
  },
  {
   "cell_type": "markdown",
   "id": "strategic-liver",
   "metadata": {},
   "source": [
    "And we can calculate a p-value in the familiar way:"
   ]
  },
  {
   "cell_type": "code",
   "execution_count": 21,
   "id": "forward-words",
   "metadata": {},
   "outputs": [
    {
     "name": "stdout",
     "output_type": "stream",
     "text": [
      "p =  0.0193\n"
     ]
    }
   ],
   "source": [
    "p_value = np.count_nonzero(fake_differences >= np.abs(actual_proportion_diff))/len(fake_differences)\n",
    "\n",
    "print('p = ', p_value)"
   ]
  },
  {
   "cell_type": "code",
   "execution_count": null,
   "id": "whole-course",
   "metadata": {},
   "outputs": [],
   "source": []
  }
 ],
 "metadata": {
  "jupytext": {
   "formats": "ipynb,Rmd"
  },
  "kernelspec": {
   "display_name": "Python 3",
   "language": "python",
   "name": "python3"
  },
  "language_info": {
   "codemirror_mode": {
    "name": "ipython",
    "version": 3
   },
   "file_extension": ".py",
   "mimetype": "text/x-python",
   "name": "python",
   "nbconvert_exporter": "python",
   "pygments_lexer": "ipython3",
   "version": "3.7.9"
  }
 },
 "nbformat": 4,
 "nbformat_minor": 5
}
