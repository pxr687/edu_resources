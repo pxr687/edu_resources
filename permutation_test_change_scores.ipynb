{
 "cells": [
  {
   "cell_type": "markdown",
   "id": "requested-complexity",
   "metadata": {},
   "source": [
    "# Permuation tests with change scores"
   ]
  },
  {
   "cell_type": "code",
   "execution_count": 1,
   "id": "radical-manchester",
   "metadata": {},
   "outputs": [],
   "source": [
    "import pandas as pd\n",
    "import matplotlib.pyplot as plt\n",
    "import numpy as np"
   ]
  },
  {
   "cell_type": "markdown",
   "id": "framed-component",
   "metadata": {},
   "source": [
    "This notebook will simulate a clinical trial where a placebo group and an active drug group are tested pre and post treatment. The tests will test the null hypothesis that there is no difference in the pre/post treatment change scores for each group. E.g. that the drug is no more effective than placebo.\n",
    "\n",
    "The output of the cell below shows the simulated symptom severity scores before treatment, for each participant. E.g. before the placebo group have received the placebo treatment, and before the drug group have received the active drug treatment:"
   ]
  },
  {
   "cell_type": "code",
   "execution_count": 2,
   "id": "usual-hunger",
   "metadata": {},
   "outputs": [
    {
     "name": "stdout",
     "output_type": "stream",
     "text": [
      "\n",
      "Placebo group symptom severity scores BEFORE treatment:\n"
     ]
    },
    {
     "data": {
      "text/plain": [
       "array([ 87, 116,  94,  91,  85, 116,  94, 102, 101,  89,  87,  96, 116,\n",
       "        84,  94,  87, 102,  82, 104,  73, 100,  93, 104, 101,  90, 103,\n",
       "        96, 101, 128,  82, 107, 105,  91,  85, 117, 124,  97,  97, 101,\n",
       "        94,  88, 111,  95, 115, 102, 123,  92,  95, 112,  79,  60,  87,\n",
       "       108,  96,  93,  86, 116, 103, 140, 104, 110,  63,  80, 130, 122,\n",
       "       104,  99, 107,  86, 123,  89, 102,  49,  79,  93, 100, 113, 101,\n",
       "        91, 144])"
      ]
     },
     "metadata": {},
     "output_type": "display_data"
    },
    {
     "name": "stdout",
     "output_type": "stream",
     "text": [
      "\n",
      "Drug group  symptom severity scores BEFORE treatment:\n"
     ]
    },
    {
     "data": {
      "text/plain": [
       "array([117, 105,  88, 119, 100,  86,  91,  90, 110,  66,  99,  76,  87,\n",
       "       105, 101, 120, 106,  79,  89, 112, 102, 114, 112,  90,  81,  78,\n",
       "       116,  92, 117,  99,  98,  99,  97,  91,  87, 104, 108,  92, 120,\n",
       "       132,  70,  99,  80, 111,  98, 108, 110, 104, 119, 116,  98, 108,\n",
       "        99,  94, 117,  80, 108, 143, 125, 108, 102,  95,  94, 101, 101,\n",
       "       104, 106,  71, 125, 107,  80,  85, 112,  95,  91, 113,  96,  96,\n",
       "        90, 108])"
      ]
     },
     "metadata": {},
     "output_type": "display_data"
    }
   ],
   "source": [
    "# setting a sample size for the simulated groups\n",
    "samp_size = 80\n",
    "\n",
    "# creating simulated pre-treatment scores for the placebo group\n",
    "placebo_before = np.random.normal(100, 15, samp_size).astype('int')\n",
    "\n",
    "print('\\nPlacebo group symptom severity scores BEFORE treatment:')\n",
    "display(placebo_before)\n",
    "\n",
    "# creating simulated pre-treatment scores for the drug group\n",
    "drug_before = np.random.normal(100, 15, samp_size).astype('int')\n",
    "\n",
    "print('\\nDrug group  symptom severity scores BEFORE treatment:')\n",
    "display(drug_before)"
   ]
  },
  {
   "cell_type": "markdown",
   "id": "extra-black",
   "metadata": {},
   "source": [
    "The output of the cell below shows the symptom severity scores after treatment:"
   ]
  },
  {
   "cell_type": "code",
   "execution_count": 3,
   "id": "varied-penguin",
   "metadata": {},
   "outputs": [
    {
     "name": "stdout",
     "output_type": "stream",
     "text": [
      "Placebo group scores AFTER treatment:\n"
     ]
    },
    {
     "data": {
      "text/plain": [
       "array([132,  91,  91,  97,  91,  78, 104, 101, 118, 113,  84,  96,  69,\n",
       "        84,  75,  98, 110,  98,  91, 113,  73, 103, 107, 124, 107,  87,\n",
       "        86,  95,  83, 127, 105,  62,  89,  81,  85, 113, 114,  96, 103,\n",
       "       111,  95, 120,  99, 100,  60, 115, 104, 114,  93,  99,  95,  84,\n",
       "        92,  98,  78, 115,  86,  72, 104,  93, 102,  95,  88,  80,  82,\n",
       "        89,  99, 115,  65,  94, 118, 116, 105,  83,  74, 108,  88,  93,\n",
       "        82,  78])"
      ]
     },
     "metadata": {},
     "output_type": "display_data"
    },
    {
     "name": "stdout",
     "output_type": "stream",
     "text": [
      "Drug group scores AFTER treatment:\n"
     ]
    },
    {
     "data": {
      "text/plain": [
       "array([ 84,  50, 105, 114,  78,  74,  83,  90, 115, 115, 108,  75,  73,\n",
       "       100,  90,  82,  70, 111,  96,  96,  67,  75,  84,  85,  97,  98,\n",
       "        80,  82,  84, 110,  97,  88,  75,  58,  84,  91,  68,  93, 103,\n",
       "        80,  74,  88,  81,  58,  92, 108,  93,  72,  83,  89,  76,  79,\n",
       "        86,  59, 102,  78, 112,  68,  81,  71,  82,  74, 113,  69,  90,\n",
       "        65, 105,  70,  75,  67,  93,  78,  51,  87,  86,  78,  69, 103,\n",
       "        85,  74])"
      ]
     },
     "metadata": {},
     "output_type": "display_data"
    }
   ],
   "source": [
    "# creating simulated post-treatment scores for the placebo group\n",
    "placebo_after = np.random.normal(95, 15, samp_size).astype('int')\n",
    "\n",
    "print('Placebo group scores AFTER treatment:')\n",
    "display(placebo_after)\n",
    "\n",
    "\n",
    "# creating simulated post-treatment scores for the drug group\n",
    "drug_after = np.random.normal(85, 15, samp_size).astype('int')\n",
    "\n",
    "print('Drug group scores AFTER treatment:')\n",
    "display(drug_after)"
   ]
  },
  {
   "cell_type": "markdown",
   "id": "reverse-portfolio",
   "metadata": {},
   "source": [
    "The cells below show some graphical inspection of the data, using seaborn:"
   ]
  },
  {
   "cell_type": "code",
   "execution_count": 4,
   "id": "attended-utility",
   "metadata": {},
   "outputs": [
    {
     "data": {
      "image/png": "[encoded data removed]",
      "text/plain": [
       "<Figure size 432x288 with 1 Axes>"
      ]
     },
     "metadata": {
      "needs_background": "light"
     },
     "output_type": "display_data"
    }
   ],
   "source": [
    "import seaborn as sns\n",
    "\n",
    "# plotting the pre/post treatment scores for each group\n",
    "sns.boxplot(data = [placebo_before, placebo_after, drug_before, drug_after])\n",
    "# labelling the axes\n",
    "plt.xticks(np.arange(4), ['placebo_before', 'placebo_after', 'drug_before', 'drug_after'])\n",
    "plt.ylabel('symptom severity');"
   ]
  },
  {
   "cell_type": "markdown",
   "id": "daily-mapping",
   "metadata": {},
   "source": [
    "In this instance, from graphical inspection it does look like the post-treatment syptom severity is lower for the drug group than for the placebo group. It's especially informative to look at the line in the center of each boxplot, which shows the median."
   ]
  },
  {
   "cell_type": "markdown",
   "id": "fifteen-bearing",
   "metadata": {},
   "source": [
    "# Change scores\n",
    "\n",
    "The output of the cell below shows the change scores for each group. Generally this is calculated by subtracting the pre-treatment scores from the post-treatment scores."
   ]
  },
  {
   "cell_type": "code",
   "execution_count": 5,
   "id": "worst-resident",
   "metadata": {},
   "outputs": [
    {
     "name": "stdout",
     "output_type": "stream",
     "text": [
      "\n",
      "Placebo group change scores:\n"
     ]
    },
    {
     "data": {
      "text/plain": [
       "array([ 45, -25,  -3,   6,   6, -38,  10,  -1,  17,  24,  -3,   0, -47,\n",
       "         0, -19,  11,   8,  16, -13,  40, -27,  10,   3,  23,  17, -16,\n",
       "       -10,  -6, -45,  45,  -2, -43,  -2,  -4, -32, -11,  17,  -1,   2,\n",
       "        17,   7,   9,   4, -15, -42,  -8,  12,  19, -19,  20,  35,  -3,\n",
       "       -16,   2, -15,  29, -30, -31, -36, -11,  -8,  32,   8, -50, -40,\n",
       "       -15,   0,   8, -21, -29,  29,  14,  56,   4, -19,   8, -25,  -8,\n",
       "        -9, -66])"
      ]
     },
     "metadata": {},
     "output_type": "display_data"
    },
    {
     "name": "stdout",
     "output_type": "stream",
     "text": [
      "\n",
      "Drug group change scores:\n"
     ]
    },
    {
     "data": {
      "text/plain": [
       "array([-33, -55,  17,  -5, -22, -12,  -8,   0,   5,  49,   9,  -1, -14,\n",
       "        -5, -11, -38, -36,  32,   7, -16, -35, -39, -28,  -5,  16,  20,\n",
       "       -36, -10, -33,  11,  -1, -11, -22, -33,  -3, -13, -40,   1, -17,\n",
       "       -52,   4, -11,   1, -53,  -6,   0, -17, -32, -36, -27, -22, -29,\n",
       "       -13, -35, -15,  -2,   4, -75, -44, -37, -20, -21,  19, -32, -11,\n",
       "       -39,  -1,  -1, -50, -40,  13,  -7, -61,  -8,  -5, -35, -27,   7,\n",
       "        -5, -34])"
      ]
     },
     "metadata": {},
     "output_type": "display_data"
    }
   ],
   "source": [
    "# calculating the change scores for the placebo group\n",
    "placebo_change = placebo_after - placebo_before\n",
    "print('\\nPlacebo group change scores:')\n",
    "display(placebo_change)\n",
    "\n",
    "# calculating the change scores for the drug group\n",
    "drug_change = drug_after - drug_before\n",
    "print('\\nDrug group change scores:')\n",
    "display(drug_change)"
   ]
  },
  {
   "cell_type": "markdown",
   "id": "identical-literature",
   "metadata": {},
   "source": [
    "We can graphically inspect the change scores for each group, in the same way as for the raw scores:"
   ]
  },
  {
   "cell_type": "code",
   "execution_count": 6,
   "id": "conscious-density",
   "metadata": {},
   "outputs": [
    {
     "data": {
      "image/png": "[encoded data removed]",
      "text/plain": [
       "<Figure size 432x288 with 1 Axes>"
      ]
     },
     "metadata": {
      "needs_background": "light"
     },
     "output_type": "display_data"
    }
   ],
   "source": [
    "sns.boxplot(data = [placebo_change, drug_change])\n",
    "plt.xticks(np.arange(2), ['placebo group change scores', 'drug group change scores'])\n",
    "plt.ylabel('symptom severity');"
   ]
  },
  {
   "cell_type": "markdown",
   "id": "verified-agent",
   "metadata": {},
   "source": [
    "It does look like the drug group generally have more negative change scores. This indicates a greater reduction in symptom severity in the drug group, relative to the placebo group.\n",
    "\n",
    "We can check this further with some descriptive statistics:"
   ]
  },
  {
   "cell_type": "code",
   "execution_count": 7,
   "id": "demographic-internet",
   "metadata": {},
   "outputs": [
    {
     "name": "stdout",
     "output_type": "stream",
     "text": [
      "The mean change for the placebo group =  -3.1375\n",
      "The mean change for the drug group =  -15.875\n"
     ]
    }
   ],
   "source": [
    "print('The mean change for the placebo group = ', np.mean(placebo_change))\n",
    "\n",
    "print('The mean change for the drug group = ', np.mean(drug_change))"
   ]
  },
  {
   "cell_type": "markdown",
   "id": "pursuant-synthetic",
   "metadata": {},
   "source": [
    "# Permutation testing the difference in mean change scores between the two groups\n",
    "\n",
    "We can permutation test the difference in the mean change scores between the groups in a very similar way to the permutation test shown in: https://matthew-brett.github.io/cfd2020/permutation/permutation_and_t_test.html\n",
    "\n",
    "This method shuffles the change scores themselves. We are also interested in the *direction* of the change, so there's another method, which uses the +/- signs of the change scores, which I'll show after this.\n",
    "\n",
    "First, let's calculate the actual difference between the mean change score of each group:"
   ]
  },
  {
   "cell_type": "code",
   "execution_count": 8,
   "id": "international-statement",
   "metadata": {},
   "outputs": [
    {
     "name": "stdout",
     "output_type": "stream",
     "text": [
      "12.7375\n"
     ]
    }
   ],
   "source": [
    "actual_diff = np.mean(placebo_change) - np.mean(drug_change)\n",
    "\n",
    "print(actual_diff)"
   ]
  },
  {
   "cell_type": "markdown",
   "id": "satellite-honor",
   "metadata": {},
   "source": [
    "The permutation test is shown below:"
   ]
  },
  {
   "cell_type": "code",
   "execution_count": 9,
   "id": "brilliant-tattoo",
   "metadata": {},
   "outputs": [],
   "source": [
    "# adpated from https://matthew-brett.github.io/cfd2020/permutation/permutation_and_t_test.html\n",
    "\n",
    "# count the number of participants in the placebo group\n",
    "n_placebo = len(placebo_change)\n",
    "\n",
    "# pool the change scores together\n",
    "pooled = np.append(placebo_change, drug_change)\n",
    "\n",
    "# set the number of iterations for the permutation test\n",
    "n_iters = 10000\n",
    "\n",
    "# create an array to store the fake differences in the mean change scores\n",
    "fake_differences = np.zeros(n_iters)\n",
    "\n",
    "# for 10,000 iterations, shuffle the change scores around, as if there is no difference between the groups (e.g. no difference\n",
    "# between the direction or magnitude of the changes in each group)\n",
    "for i in np.arange(n_iters):\n",
    "    shuffled = np.random.permutation(pooled)\n",
    "    \n",
    "    # calculate the fake difference in the mean change scores between each group\n",
    "    fake_differences[i] = np.mean(shuffled[:n_placebo]) - np.mean(shuffled[n_placebo:])\n",
    "    "
   ]
  },
  {
   "cell_type": "markdown",
   "id": "sharing-filling",
   "metadata": {},
   "source": [
    "In the familar way, we can plot the simulate sampling distribution of the fake differences in mean change scores:"
   ]
  },
  {
   "cell_type": "code",
   "execution_count": 10,
   "id": "insured-commonwealth",
   "metadata": {},
   "outputs": [
    {
     "data": {
      "image/png": "[encoded data removed]",
      "text/plain": [
       "<Figure size 432x288 with 1 Axes>"
      ]
     },
     "metadata": {
      "needs_background": "light"
     },
     "output_type": "display_data"
    }
   ],
   "source": [
    "plt.hist(fake_differences)\n",
    "plt.title('Sampling distribution of difference of fake mean change scores');"
   ]
  },
  {
   "cell_type": "markdown",
   "id": "innocent-attitude",
   "metadata": {},
   "source": [
    "Let's plot the actual difference in mean change scores, to see how likely/unlikely a difference of that size was, in the simulation."
   ]
  },
  {
   "cell_type": "code",
   "execution_count": 11,
   "id": "married-blame",
   "metadata": {},
   "outputs": [
    {
     "data": {
      "image/png": "[encoded data removed]",
      "text/plain": [
       "<Figure size 432x288 with 1 Axes>"
      ]
     },
     "metadata": {
      "needs_background": "light"
     },
     "output_type": "display_data"
    }
   ],
   "source": [
    "plt.hist(fake_differences)\n",
    "plt.title('Sampling distribution of difference of fake mean change score')\n",
    "plt.plot(actual_diff, 1, 'o', markersize = 10, label = 'actual difference in mean change score')\n",
    "plt.legend();"
   ]
  },
  {
   "cell_type": "markdown",
   "id": "thick-aberdeen",
   "metadata": {},
   "source": [
    "We can also calculate a p-value, but calculating the proportion of fake mean differences which were as large or larger than the absolute value of the actual difference:"
   ]
  },
  {
   "cell_type": "code",
   "execution_count": 12,
   "id": "supposed-observer",
   "metadata": {},
   "outputs": [
    {
     "name": "stdout",
     "output_type": "stream",
     "text": [
      "0.0002\n"
     ]
    }
   ],
   "source": [
    "p_value = np.count_nonzero(fake_differences >= np.abs(actual_diff))/len(fake_differences)\n",
    "\n",
    "print(p_value)"
   ]
  },
  {
   "cell_type": "markdown",
   "id": "ongoing-comparative",
   "metadata": {},
   "source": [
    "# Permutation testing the difference in +/- proportions of the change scores, between the two groups\n",
    "\n",
    "Another way of testing whether the drug is effective, is to look only at the direction of the changes in each group. In this instance (and it can get a bit confusing) a negative change is what we want, as we want symptom severity to decrease.\n",
    "\n",
    "If the drug is not effective, we would expect roughly equal amounts of positive and negative change scores in the drug group.\n",
    "\n",
    "If the drug is no more effective than the placebo, we would expect the distribution of postivie and negative change scores to be the same between the placebo and drug groups.\n",
    "\n",
    "The placebo might be effective, because of the placebo effect. So we might expect more negative changes than positive changes in both groups. \n",
    "\n",
    "So both groups may have more negative changes than positive changes. But if the drug is more effective than the placebo, we would expect the proportion of negative changes to be higher in the drug group than the placebo group.\n",
    "\n",
    "First, let's write a function to convert the actual change scores to a string, either `+` or `-`, depending on the sign of the change score:"
   ]
  },
  {
   "cell_type": "code",
   "execution_count": 13,
   "id": "authorized-resolution",
   "metadata": {},
   "outputs": [],
   "source": [
    "def change_score_to_sign(change_scores):\n",
    "    \n",
    "    # copy the input array, to avoid changing the original change scores\n",
    "    change_scores_no_zeros = np.copy(change_scores)\n",
    "    \n",
    "    # there may be change scores of 0, which are neither positive nor negative\n",
    "    # find any 0s in the input array, and with a 50/50 chance, replace them with either -1 or 1\n",
    "    change_scores_no_zeros[np.where(change_scores_no_zeros == 0)] = np.random.choice([-1, 1])\n",
    "    \n",
    "    # take the input array, replace any positive values with `+` and any negative values with `-`\n",
    "    output = np.where(change_scores_no_zeros > 0, '+', '-')\n",
    "    \n",
    "    return output"
   ]
  },
  {
   "cell_type": "code",
   "execution_count": 14,
   "id": "speaking-novel",
   "metadata": {},
   "outputs": [
    {
     "data": {
      "text/plain": [
       "array(['+', '-', '-', '+', '+', '-', '+', '-', '+', '+', '-', '+', '-',\n",
       "       '+', '-', '+', '+', '+', '-', '+', '-', '+', '+', '+', '+', '-',\n",
       "       '-', '-', '-', '+', '-', '-', '-', '-', '-', '-', '+', '-', '+',\n",
       "       '+', '+', '+', '+', '-', '-', '-', '+', '+', '-', '+', '+', '-',\n",
       "       '-', '+', '-', '+', '-', '-', '-', '-', '-', '+', '+', '-', '-',\n",
       "       '-', '+', '+', '-', '-', '+', '+', '+', '+', '-', '+', '-', '-',\n",
       "       '-', '-'], dtype='<U1')"
      ]
     },
     "execution_count": 14,
     "metadata": {},
     "output_type": "execute_result"
    }
   ],
   "source": [
    "# testing the function on the placebo change scores\n",
    "change_score_to_sign(placebo_change)"
   ]
  },
  {
   "cell_type": "code",
   "execution_count": 15,
   "id": "extensive-preparation",
   "metadata": {},
   "outputs": [],
   "source": [
    "# running the function on the change scores of both groups, and storing the results as variables\n",
    "placebo_change_signs = change_score_to_sign(placebo_change)\n",
    "\n",
    "drug_change_signs = change_score_to_sign(drug_change)"
   ]
  },
  {
   "cell_type": "code",
   "execution_count": 16,
   "id": "coated-lafayette",
   "metadata": {},
   "outputs": [
    {
     "name": "stdout",
     "output_type": "stream",
     "text": [
      "Signs of the change scores for the placebo group:\n"
     ]
    },
    {
     "data": {
      "text/plain": [
       "array(['+', '-', '-', '+', '+', '-', '+', '-', '+', '+', '-', '-', '-',\n",
       "       '-', '-', '+', '+', '+', '-', '+', '-', '+', '+', '+', '+', '-',\n",
       "       '-', '-', '-', '+', '-', '-', '-', '-', '-', '-', '+', '-', '+',\n",
       "       '+', '+', '+', '+', '-', '-', '-', '+', '+', '-', '+', '+', '-',\n",
       "       '-', '+', '-', '+', '-', '-', '-', '-', '-', '+', '+', '-', '-',\n",
       "       '-', '-', '+', '-', '-', '+', '+', '+', '+', '-', '+', '-', '-',\n",
       "       '-', '-'], dtype='<U1')"
      ]
     },
     "metadata": {},
     "output_type": "display_data"
    },
    {
     "name": "stdout",
     "output_type": "stream",
     "text": [
      "Signs of the change scores for the drug group:\n"
     ]
    },
    {
     "data": {
      "text/plain": [
       "array(['-', '-', '+', '-', '-', '-', '-', '-', '+', '+', '+', '-', '-',\n",
       "       '-', '-', '-', '-', '+', '+', '-', '-', '-', '-', '-', '+', '+',\n",
       "       '-', '-', '-', '+', '-', '-', '-', '-', '-', '-', '-', '+', '-',\n",
       "       '-', '+', '-', '+', '-', '-', '-', '-', '-', '-', '-', '-', '-',\n",
       "       '-', '-', '-', '-', '+', '-', '-', '-', '-', '-', '+', '-', '-',\n",
       "       '-', '-', '-', '-', '-', '+', '-', '-', '-', '-', '-', '-', '+',\n",
       "       '-', '-'], dtype='<U1')"
      ]
     },
     "metadata": {},
     "output_type": "display_data"
    }
   ],
   "source": [
    "print('Signs of the change scores for the placebo group:')\n",
    "display(placebo_change_signs)\n",
    "\n",
    "print('Signs of the change scores for the drug group:')\n",
    "display(drug_change_signs)"
   ]
  },
  {
   "cell_type": "markdown",
   "id": "handmade-enterprise",
   "metadata": {},
   "source": [
    "What we are interested in is whether the proportion of negative change scores differs between the placebo and drug group.\n",
    "\n",
    "The proportions of negative change scores are calculated and plotted in the cell below:"
   ]
  },
  {
   "cell_type": "code",
   "execution_count": 17,
   "id": "juvenile-joyce",
   "metadata": {},
   "outputs": [
    {
     "data": {
      "image/png": "[encoded data removed]",
      "text/plain": [
       "<Figure size 432x288 with 1 Axes>"
      ]
     },
     "metadata": {
      "needs_background": "light"
     },
     "output_type": "display_data"
    }
   ],
   "source": [
    "prop_neg_placebo = np.count_nonzero(placebo_change_signs == '-')/len(placebo_change_signs)\n",
    "\n",
    "prop_neg_drug = np.count_nonzero(drug_change_signs == '-')/len(drug_change_signs)\n",
    "\n",
    "\n",
    "plt.bar(['placebo group', 'drug group'], [prop_neg_placebo, prop_neg_drug], color = ['blue', 'red'])\n",
    "plt.ylabel('Proportion of negative change scores');"
   ]
  },
  {
   "cell_type": "markdown",
   "id": "powered-onion",
   "metadata": {},
   "source": [
    "It does appear that a greater proportion of the drug group had negative change scores, indicating a greater proportion of participants had less severe symptoms post-treatment.\n",
    "\n",
    "We can calculate the difference in these proportions:"
   ]
  },
  {
   "cell_type": "code",
   "execution_count": 18,
   "id": "intellectual-revelation",
   "metadata": {},
   "outputs": [
    {
     "name": "stdout",
     "output_type": "stream",
     "text": [
      "Difference in the proportion of negative change scores (placebo group - drug group) = -0.23750000000000004\n"
     ]
    }
   ],
   "source": [
    "actual_proportion_diff = prop_neg_placebo - prop_neg_drug\n",
    "\n",
    "print('Difference in the proportion of negative change scores (placebo group - drug group) =',  actual_proportion_diff)"
   ]
  },
  {
   "cell_type": "markdown",
   "id": "portuguese-phone",
   "metadata": {},
   "source": [
    "We can permutation test this by shuffling the `+` and `-` labels around, under the null hypothesis that there is no difference in the proportion of negative change scores in each group:"
   ]
  },
  {
   "cell_type": "code",
   "execution_count": 19,
   "id": "pregnant-boring",
   "metadata": {},
   "outputs": [],
   "source": [
    "# count the number of participants in the placebo group\n",
    "n_placebo = len(placebo_change)\n",
    "\n",
    "# pool the change score signs from each group\n",
    "pooled = np.append(placebo_change_signs, drug_change_signs)\n",
    "\n",
    "# set the number of iterations\n",
    "n_iters = 10000\n",
    "\n",
    "# create an array to store the fake proportion differences\n",
    "fake_differences = np.zeros(n_iters)\n",
    "\n",
    "# for 10,000 iterations...\n",
    "for i in np.arange(n_iters):\n",
    "    \n",
    "    # shuffle the +/- change labels around\n",
    "    shuffled = np.random.permutation(pooled)\n",
    "    \n",
    "    # create a fake placebo group from the shuffled labels\n",
    "    fake_placebo_change_signs = shuffled[:n_placebo]\n",
    "    \n",
    "    # create a fake drug group from the shuffled labels\n",
    "    fake_drug_change_signs = shuffled[n_placebo:]\n",
    "    \n",
    "    # caclulate the fake proportion of negative changes in the placebo group\n",
    "    fake_prop_neg_placebo = np.count_nonzero(fake_placebo_change_signs == '-')/len(fake_placebo_change_signs)\n",
    "    \n",
    "    # caclulate the fake proportion of negative changes in the drug group\n",
    "    fake_prop_neg_drug = np.count_nonzero(fake_drug_change_signs == '-')/len(fake_drug_change_signs)\n",
    "    \n",
    "    # store the fake proportion difference in the fake_differences array\n",
    "    fake_differences[i] = fake_prop_neg_placebo - fake_prop_neg_drug\n"
   ]
  },
  {
   "cell_type": "markdown",
   "id": "several-uncertainty",
   "metadata": {},
   "source": [
    "Again, we can plot the simulated sampling distribution, under the null hypothesis, of the difference in the proportion of negative change scores between the groups:"
   ]
  },
  {
   "cell_type": "code",
   "execution_count": 20,
   "id": "juvenile-prize",
   "metadata": {},
   "outputs": [
    {
     "data": {
      "image/png": "[encoded data removed]",
      "text/plain": [
       "<Figure size 432x288 with 1 Axes>"
      ]
     },
     "metadata": {
      "needs_background": "light"
     },
     "output_type": "display_data"
    }
   ],
   "source": [
    "plt.hist(fake_differences)\n",
    "plt.title('Sampling distribution of difference of fake differences in the proportion of negative change scores')\n",
    "plt.plot(actual_proportion_diff, 1, 'o',  markersize = 10, label = 'actual difference in proportion of negative change scores')\n",
    "plt.legend();"
   ]
  },
  {
   "cell_type": "markdown",
   "id": "concrete-imaging",
   "metadata": {},
   "source": [
    "And we can calculate a p-value in the familiar way:"
   ]
  },
  {
   "cell_type": "code",
   "execution_count": 21,
   "id": "offensive-makeup",
   "metadata": {},
   "outputs": [
    {
     "name": "stdout",
     "output_type": "stream",
     "text": [
      "p =  0.0012\n"
     ]
    }
   ],
   "source": [
    "p_value = np.count_nonzero(fake_differences >= np.abs(actual_proportion_diff))/len(fake_differences)\n",
    "\n",
    "print('p = ', p_value)"
   ]
  },
  {
   "cell_type": "code",
   "execution_count": null,
   "id": "armed-madison",
   "metadata": {},
   "outputs": [],
   "source": []
  }
 ],
 "metadata": {
  "kernelspec": {
   "display_name": "Python 3",
   "language": "python",
   "name": "python3"
  },
  "language_info": {
   "codemirror_mode": {
    "name": "ipython",
    "version": 3
   },
   "file_extension": ".py",
   "mimetype": "text/x-python",
   "name": "python",
   "nbconvert_exporter": "python",
   "pygments_lexer": "ipython3",
   "version": "3.7.9"
  }
 },
 "nbformat": 4,
 "nbformat_minor": 5
}
